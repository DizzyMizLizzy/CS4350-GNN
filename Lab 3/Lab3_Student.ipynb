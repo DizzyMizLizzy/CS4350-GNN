{
 "cells": [
  {
   "attachments": {},
   "cell_type": "markdown",
   "metadata": {},
   "source": [
    "# Lab 3: GNN Scalibility and Explanability\n",
    "\n",
    "In this lab, you will learn how to implement scalable GNN methods and GNN explainers. Specially, you will\n",
    "\n",
    "*   Implement different graph-based scalibility and explanability techniques\n",
    "*   Analyze the performances of different scalable GNNs\n",
    "*   Explain the performance of explainers\n",
    "\n",
    "**Completion requirements**\n",
    "\n",
    "By the end of this notebook, you should have:\n",
    "\n",
    "*  Implement all the code cells for the scalable GNNs and GNN explainer\n",
    "*  training the methods\n",
    "*  assesing the performance of the methods.\n",
    " \n",
    "\n"
   ]
  },
  {
   "attachments": {},
   "cell_type": "markdown",
   "metadata": {},
   "source": [
    "---"
   ]
  },
  {
   "attachments": {},
   "cell_type": "markdown",
   "metadata": {},
   "source": [
    "## Libraries\n",
    "\n",
    "<!-- \n",
    "# If you have not installed pytorch geometric uncomment the following lines to install it\n",
    "\n",
    "# !pip install -q torch-scatter -f https://data.pyg.org/whl/torch-${TORCH}.html\n",
    "# !pip install -q torch-sparse -f https://data.pyg.org/whl/torch-${TORCH}.html\n",
    "# !pip install -q git+https://github.com/pyg-team/pytorch_geometric.git\n",
    "\n",
    "# !pip install wntr -->"
   ]
  },
  {
   "attachments": {},
   "cell_type": "markdown",
   "metadata": {},
   "source": [
    "To run this notebook you need to have installed the following packages:\n",
    "\n",
    "- TDC\n",
    "- Numpy\n",
    "- Pytorch\n",
    "- NetworkX\n",
    "- Matplotlib\n",
    "- Scikit-learn\n",
    "- Pytorch geometric  "
   ]
  },
  {
   "attachments": {},
   "cell_type": "markdown",
   "metadata": {},
   "source": [
    "Run the following code to import the packages"
   ]
  },
  {
   "cell_type": "code",
   "execution_count": 9,
   "metadata": {},
   "outputs": [],
   "source": [
    "# import the libraries\n",
    "import torch\n",
    "import numpy as np\n",
    "import networkx as nx\n",
    "import matplotlib.pyplot as plt\n",
    "import matplotlib.image as mpimg\n",
    "\n",
    "\n",
    "import copy\n",
    "import os.path as osp\n",
    "\n",
    "import torch\n",
    "from torch.nn import ModuleList\n",
    "import torch.nn.functional as F\n",
    "from torch_geometric.nn import APPNP\n",
    "from torch_geometric.nn import MessagePassing\n",
    "from torch_geometric.nn import GCNConv, SAGEConv, ClusterGCNConv\n",
    "\n",
    "from torch_geometric.explain import Explainer, GNNExplainer\n",
    "from torch_geometric.utils import k_hop_subgraph\n",
    "from torch_geometric.loader import ClusterData, ClusterLoader, NeighborSampler, NeighborLoader\n",
    "\n",
    "# import the functions\n",
    "from numpy import dot\n",
    "import torch.nn as nn\n",
    "from sklearn import metrics\n",
    "from numpy.linalg import norm\n",
    "import tqdm\n",
    "from sklearn.metrics import precision_recall_curve\n",
    "from sklearn.metrics import average_precision_score\n",
    "from sklearn.model_selection import train_test_split\n",
    "\n",
    "# import the datasets\n",
    "from torch_geometric.datasets import Planetoid"
   ]
  },
  {
   "attachments": {},
   "cell_type": "markdown",
   "metadata": {},
   "source": [
    "## Dataset"
   ]
  },
  {
   "attachments": {},
   "cell_type": "markdown",
   "metadata": {},
   "source": [
    "In this lab, we will work with a benchmark dataset called **Cora**. This dataset contains 2708 scientific publications classified into one of seven classes. The citation network consists of 5429 links, indicating the citation relationship among the publications. We will treat publications as nodes and their relationship as edges in the graph."
   ]
  },
  {
   "attachments": {},
   "cell_type": "markdown",
   "metadata": {},
   "source": [
    "Run the following code to load the cora dataset:"
   ]
  },
  {
   "cell_type": "code",
   "execution_count": 2,
   "metadata": {},
   "outputs": [
    {
     "data": {
      "text/plain": [
       "torch.Size([2708, 1433])"
      ]
     },
     "execution_count": 2,
     "metadata": {},
     "output_type": "execute_result"
    }
   ],
   "source": [
    "cora_dataset = Planetoid(root=\"\", name=\"Cora\", split=\"public\")\n",
    "data = cora_dataset[0]\n",
    "data.x.shape"
   ]
  },
  {
   "attachments": {},
   "cell_type": "markdown",
   "metadata": {},
   "source": [
    "## Problem Definition "
   ]
  },
  {
   "attachments": {},
   "cell_type": "markdown",
   "metadata": {},
   "source": [
    "In the following two sections Lab3.1 and Lab3.2, you will perform the node classification task, where you are given a graph and its incomplete labeling, and the goal is to predict the classes of the unlabeled nodes. A tutorial to perform the node classification task on dataset Cora can be found under the link: https://pytorch-geometric.readthedocs.io/en/latest/get_started/introduction.html"
   ]
  },
  {
   "attachments": {},
   "cell_type": "markdown",
   "metadata": {},
   "source": [
    "___"
   ]
  },
  {
   "attachments": {},
   "cell_type": "markdown",
   "metadata": {},
   "source": [
    "## Lab 3.1: Scalable GNN Methods"
   ]
  },
  {
   "attachments": {},
   "cell_type": "markdown",
   "metadata": {},
   "source": [
    "In this section, you will implement and analyse the performances of scalable GNN methods GraphSage and ClusterGCN. The node classification task is conducted using Cora. We will employ mini-batch training in this section. Find the tutorial on mini-batch training using pytorch geometric here: https://pytorch-geometric.readthedocs.io/en/latest/modules/loader.html, and https://machinelearningmastery.com/mini-batch-gradient-descent-and-dataloader-in-pytorch/"
   ]
  },
  {
   "attachments": {},
   "cell_type": "markdown",
   "metadata": {},
   "source": [
    "### 🕵 <font color='289C4E'>Coding Question<font><a class='anchor' id='top'></a>"
   ]
  },
  {
   "attachments": {},
   "cell_type": "markdown",
   "metadata": {},
   "source": [
    "  **(a) Define and instantiate a GraphSAGE model with the following parameters:**\n",
    "  \n",
    "  - in_channels: the dimensions of the feature matrix in Cora\n",
    "  - hidden_channels: 128\n",
    "  - num_layers: 2\n",
    "  - out_channels: number of classes in Cora\n",
    "  - sample size for training: [5, 2]\n",
    "  - learning rate: 0.01\n",
    "  - batch size: 1024\n",
    "  - drop out rate: 0.5\n",
    "  \n",
    "  **train the model for 200 epochs and record the training loss and accuracy**\n",
    "  \n",
    "  **visualize the training loss and accuracy on the test set as a function to the epochs**"
   ]
  },
  {
   "attachments": {},
   "cell_type": "markdown",
   "metadata": {},
   "source": [
    "The creation of mini-batching is crucial for letting the training of a deep learning model scale to huge amounts of data. Here, we first build data loader for training and test. Call the Neighborloader in Pytorch Geometric to build the loaders with the sample size, batch size specified above in the following cell: "
   ]
  },
  {
   "cell_type": "code",
   "execution_count": 3,
   "metadata": {},
   "outputs": [],
   "source": [
    "# for mini-batch training\n",
    "\n",
    "num_neighbors = [5, 2]\n",
    "batch_size = 1024\n",
    "\n",
    "# build loaders to break the graph for train\n",
    "train_loader = NeighborLoader(data=data, input_nodes=data.train_mask, num_neighbors=num_neighbors, batch_size=batch_size, shuffle=True)\n",
    "\n",
    "# build loaders to break the graph for test\n",
    "test_loader = NeighborLoader(data=data, input_nodes=None, num_neighbors=num_neighbors, batch_size=batch_size, shuffle=False)"
   ]
  },
  {
   "attachments": {},
   "cell_type": "markdown",
   "metadata": {},
   "source": [
    "In pytorch geometric, the SAGEConv layer is implemented. Here we can use the predefined SAGEConv layer to build our GraphSAGE model. Define and instantiate the GraphSAGE model in the following cell:"
   ]
  },
  {
   "cell_type": "code",
   "execution_count": 4,
   "metadata": {},
   "outputs": [],
   "source": [
    "#################################################################\n",
    "#add your code here to define and instantiate the GraphSAGE model\n",
    "device = \"cpu\"\n",
    "class SAGE(torch.nn.Module):\n",
    "    def __init__(self, in_channels, hidden_channels, out_channels):\n",
    "        super().__init__()\n",
    "        self.convs = torch.nn.ModuleList()\n",
    "        self.convs.append(SAGEConv(in_channels, hidden_channels))\n",
    "        self.convs.append(SAGEConv(hidden_channels, out_channels))\n",
    "    \n",
    "    # define the forward function here\n",
    "    # note that in batch training the loss has to be backpropagated for each batch, write the function accordingly\n",
    "    def forward(self, x, edge_index):\n",
    "        for i, conv in enumerate(self.convs):\n",
    "            x = conv(x, edge_index)\n",
    "            if i < len(self.convs) - 1:\n",
    "                x = x.relu_()\n",
    "                x = F.dropout(x, p=0.5, training=self.training)\n",
    "        return x\n",
    "\n",
    "    # define the inference function here\n",
    "    # Compute representations of nodes layer by layer\n",
    "    # This leads to faster computation in contrast to immediately computing the final representations of each batch\n",
    "    @torch.no_grad()\n",
    "    def inference(self, x_all, subgraph_loader):\n",
    "        for i, conv in enumerate(self.convs):\n",
    "            xs = []\n",
    "            for batch in subgraph_loader:\n",
    "                x = x_all[batch.n_id.to(x_all.device)].to(device)\n",
    "                x = conv(x, batch.edge_index.to(device))\n",
    "                if i < len(self.convs) - 1:\n",
    "                    x = x.relu_()\n",
    "                xs.append(x[:batch.batch_size].cpu())\n",
    "            x_all = torch.cat(xs, dim=0)\n",
    "\n",
    "        return x_all\n",
    "    \n",
    "device = torch.device('cpu')\n",
    "GraphSAGE = SAGE(data.num_features, 128, cora_dataset.num_classes).to(device)\n",
    "optimizer = torch.optim.Adam(GraphSAGE.parameters(), lr=0.01)\n",
    "#################################################################"
   ]
  },
  {
   "attachments": {},
   "cell_type": "markdown",
   "metadata": {},
   "source": [
    "According to the instructions left in the following cell, define the training and test function of the previous defined GraphSAGE model:"
   ]
  },
  {
   "cell_type": "code",
   "execution_count": 5,
   "metadata": {},
   "outputs": [],
   "source": [
    "#################################################################\n",
    "\n",
    "# define a train function for the graphsage model\n",
    "def train(epoch):\n",
    "    GraphSAGE.train()\n",
    "    total_loss = total_correct = total_examples = 0\n",
    "\n",
    "    # use the training loader for mini-batch training\n",
    "    for batch in train_loader:\n",
    "        optimizer.zero_grad()\n",
    "        y = batch.y[:batch.batch_size]\n",
    "        y_hat = GraphSAGE(batch.x, batch.edge_index.to(device))[:batch.batch_size]\n",
    "        loss = F.cross_entropy(y_hat, y)\n",
    "        # backpropagate the loss in this batch\n",
    "        loss.backward()\n",
    "        optimizer.step()\n",
    "        # sum the batch loss to the total loss\n",
    "        total_loss += float(loss) * batch.batch_size\n",
    "        total_correct += int((y_hat.argmax(dim=-1) == y).sum())\n",
    "        total_examples += batch.batch_size\n",
    "\n",
    "    return total_loss / total_examples, total_correct / total_examples\n",
    "\n",
    "\n",
    "# test function of the graphsage model\n",
    "@torch.no_grad()\n",
    "def test():\n",
    "    GraphSAGE.eval()\n",
    "    y_hat = GraphSAGE.inference(data.x, test_loader).argmax(dim=-1)\n",
    "    y = data.y.to(y_hat.device)\n",
    "\n",
    "    accs = []\n",
    "    for mask in [data.train_mask, data.val_mask, data.test_mask]:\n",
    "        accs.append(int((y_hat[mask] == y[mask]).sum()) / int(mask.sum()))\n",
    "    return accs\n",
    "#################################################################"
   ]
  },
  {
   "attachments": {},
   "cell_type": "markdown",
   "metadata": {},
   "source": [
    "Now train the model for 200 epochs in the following cell and record the training loss and accuracy on the test set:"
   ]
  },
  {
   "cell_type": "code",
   "execution_count": 6,
   "metadata": {},
   "outputs": [
    {
     "name": "stdout",
     "output_type": "stream",
     "text": [
      "epoch1 loss: 1.943849802017212 test acc: 0.646\n",
      "epoch2 loss: 1.564215064048767 test acc: 0.712\n",
      "epoch3 loss: 1.0358400344848633 test acc: 0.745\n",
      "epoch4 loss: 0.52693110704422 test acc: 0.778\n",
      "epoch5 loss: 0.2217240184545517 test acc: 0.79\n",
      "epoch6 loss: 0.07720384001731873 test acc: 0.786\n",
      "epoch7 loss: 0.030041541904211044 test acc: 0.793\n",
      "epoch8 loss: 0.01732436567544937 test acc: 0.786\n",
      "epoch9 loss: 0.005787429865449667 test acc: 0.779\n",
      "epoch10 loss: 0.003130833152681589 test acc: 0.769\n",
      "epoch11 loss: 0.0007719643763266504 test acc: 0.773\n",
      "epoch12 loss: 0.0005968977347947657 test acc: 0.771\n",
      "epoch13 loss: 0.00047781472676433623 test acc: 0.767\n",
      "epoch14 loss: 0.000157305650645867 test acc: 0.767\n",
      "epoch15 loss: 0.0002042960113612935 test acc: 0.761\n",
      "epoch16 loss: 8.015501225600019e-05 test acc: 0.77\n",
      "epoch17 loss: 5.154100654181093e-05 test acc: 0.767\n",
      "epoch18 loss: 7.249178452184424e-05 test acc: 0.769\n",
      "epoch19 loss: 4.414904833538458e-05 test acc: 0.775\n",
      "epoch20 loss: 6.276712520048022e-05 test acc: 0.769\n",
      "epoch21 loss: 3.948059656977421e-06 test acc: 0.77\n",
      "epoch22 loss: 2.4281271180370823e-05 test acc: 0.77\n",
      "epoch23 loss: 1.528669054096099e-05 test acc: 0.768\n",
      "epoch24 loss: 6.985599611653015e-06 test acc: 0.77\n",
      "epoch25 loss: 1.1898526281584054e-05 test acc: 0.775\n",
      "epoch26 loss: 1.1921838449779898e-05 test acc: 0.772\n",
      "epoch27 loss: 2.7313947157381335e-06 test acc: 0.774\n",
      "epoch28 loss: 1.3445398508338258e-05 test acc: 0.774\n",
      "epoch29 loss: 2.3218217393150553e-06 test acc: 0.771\n",
      "epoch30 loss: 5.037726441514678e-05 test acc: 0.771\n",
      "epoch31 loss: 1.2526813407021109e-05 test acc: 0.77\n",
      "epoch32 loss: 7.4704294092953205e-06 test acc: 0.776\n",
      "epoch33 loss: 1.8405149603495374e-05 test acc: 0.776\n",
      "epoch34 loss: 8.17416207610222e-07 test acc: 0.773\n",
      "epoch35 loss: 1.7984806618187577e-05 test acc: 0.777\n",
      "epoch36 loss: 1.572584892528539e-06 test acc: 0.777\n",
      "epoch37 loss: 8.352965892299835e-07 test acc: 0.772\n",
      "epoch38 loss: 6.411602839762054e-07 test acc: 0.774\n",
      "epoch39 loss: 0.0001827026135288179 test acc: 0.779\n",
      "epoch40 loss: 1.1204931524844142e-06 test acc: 0.771\n",
      "epoch41 loss: 2.0095205854886444e-07 test acc: 0.771\n",
      "epoch42 loss: 1.6722591453799396e-06 test acc: 0.777\n",
      "epoch43 loss: 6.616010068682954e-07 test acc: 0.777\n",
      "epoch44 loss: 7.833740056639726e-08 test acc: 0.774\n",
      "epoch45 loss: 3.295257045010658e-07 test acc: 0.776\n",
      "epoch46 loss: 0.00022039709438104182 test acc: 0.771\n",
      "epoch47 loss: 0.0001290582586079836 test acc: 0.772\n",
      "epoch48 loss: 1.929994141391944e-05 test acc: 0.772\n",
      "epoch49 loss: 6.897329058119794e-06 test acc: 0.769\n",
      "epoch50 loss: 1.1914268725377042e-05 test acc: 0.771\n",
      "epoch51 loss: 1.3453599478907563e-07 test acc: 0.77\n",
      "epoch52 loss: 2.8013965902573545e-07 test acc: 0.771\n",
      "epoch53 loss: 3.2697144547455537e-07 test acc: 0.77\n",
      "epoch54 loss: 1.2627133401110768e-06 test acc: 0.769\n",
      "epoch55 loss: 1.0975347777275601e-06 test acc: 0.773\n",
      "epoch56 loss: 5.279162564875151e-07 test acc: 0.767\n",
      "epoch57 loss: 7.574577921332093e-06 test acc: 0.771\n",
      "epoch58 loss: 1.5871205505391117e-06 test acc: 0.772\n",
      "epoch59 loss: 1.0855393156816717e-05 test acc: 0.772\n",
      "epoch60 loss: 1.5981302112777485e-06 test acc: 0.769\n",
      "epoch61 loss: 2.077638185937758e-07 test acc: 0.776\n",
      "epoch62 loss: 4.427768729442505e-08 test acc: 0.773\n",
      "epoch63 loss: 6.922607553860871e-07 test acc: 0.769\n",
      "epoch64 loss: 7.578290706078405e-08 test acc: 0.776\n",
      "epoch65 loss: 7.237538284243783e-07 test acc: 0.775\n",
      "epoch66 loss: 1.4304765727501945e-06 test acc: 0.777\n",
      "epoch67 loss: 4.0870870066100906e-07 test acc: 0.776\n",
      "epoch68 loss: 9.195991310662066e-07 test acc: 0.775\n",
      "epoch69 loss: 3.5336805126462423e-07 test acc: 0.774\n",
      "epoch70 loss: 9.297763199356268e-07 test acc: 0.769\n",
      "epoch71 loss: 1.2899197372462368e-06 test acc: 0.771\n",
      "epoch72 loss: 8.004040097375764e-08 test acc: 0.777\n",
      "epoch73 loss: 1.8796135918819346e-05 test acc: 0.772\n",
      "epoch74 loss: 5.1941110967845816e-08 test acc: 0.772\n",
      "epoch75 loss: 7.60938273742795e-05 test acc: 0.774\n",
      "epoch76 loss: 2.292854560437263e-06 test acc: 0.769\n",
      "epoch77 loss: 2.6512661861488596e-06 test acc: 0.779\n",
      "epoch78 loss: 1.1375245776434895e-06 test acc: 0.773\n",
      "epoch79 loss: 9.711387247079983e-05 test acc: 0.776\n",
      "epoch80 loss: 9.536714884461617e-08 test acc: 0.777\n",
      "epoch81 loss: 5.377625257096952e-06 test acc: 0.776\n",
      "epoch82 loss: 3.661425296286325e-08 test acc: 0.775\n",
      "epoch83 loss: 0.0008477640221826732 test acc: 0.776\n",
      "epoch84 loss: 2.963179497328383e-07 test acc: 0.778\n",
      "epoch85 loss: 6.811949049279065e-08 test acc: 0.779\n",
      "epoch86 loss: 4.5638989831786603e-07 test acc: 0.771\n",
      "epoch87 loss: 1.8392169920389279e-07 test acc: 0.77\n",
      "epoch88 loss: 1.4730716202393523e-07 test acc: 0.769\n",
      "epoch89 loss: 1.1409996858446902e-07 test acc: 0.77\n",
      "epoch90 loss: 1.0984259546376052e-07 test acc: 0.771\n",
      "epoch91 loss: 4.113459726795554e-05 test acc: 0.767\n",
      "epoch92 loss: 8.770043109507242e-07 test acc: 0.765\n",
      "epoch93 loss: 8.565558573536691e-07 test acc: 0.769\n",
      "epoch94 loss: 3.448531913363695e-07 test acc: 0.769\n",
      "epoch95 loss: 7.493149922765951e-08 test acc: 0.768\n",
      "epoch96 loss: 7.28036138752941e-06 test acc: 0.776\n",
      "epoch97 loss: 0.0001099918081308715 test acc: 0.772\n",
      "epoch98 loss: 4.632082379885105e-07 test acc: 0.77\n",
      "epoch99 loss: 2.416166125840391e-06 test acc: 0.766\n",
      "epoch100 loss: 3.916872870490806e-08 test acc: 0.769\n",
      "epoch101 loss: 3.948281573684653e-06 test acc: 0.77\n",
      "epoch102 loss: 1.541935034765629e-06 test acc: 0.771\n",
      "epoch103 loss: 4.069885562785203e-06 test acc: 0.77\n",
      "epoch104 loss: 4.165177870163461e-06 test acc: 0.769\n",
      "epoch105 loss: 1.6364841712857014e-06 test acc: 0.772\n",
      "epoch106 loss: 1.0047606480156901e-07 test acc: 0.772\n",
      "epoch107 loss: 0.00012101972970413044 test acc: 0.775\n",
      "epoch108 loss: 1.0728764010536906e-07 test acc: 0.776\n",
      "epoch109 loss: 4.742723263007065e-07 test acc: 0.776\n",
      "epoch110 loss: 1.473826841902337e-06 test acc: 0.774\n",
      "epoch111 loss: 1.2006032079625584e-07 test acc: 0.778\n",
      "epoch112 loss: 4.593841731548309e-05 test acc: 0.775\n",
      "epoch113 loss: 1.5497158756261342e-07 test acc: 0.778\n",
      "epoch114 loss: 1.27724204546098e-08 test acc: 0.778\n",
      "epoch115 loss: 1.2176361963156523e-07 test acc: 0.772\n",
      "epoch116 loss: 1.7463186168242828e-06 test acc: 0.777\n",
      "epoch117 loss: 1.1495133378502942e-07 test acc: 0.779\n",
      "epoch118 loss: 7.493141396253122e-08 test acc: 0.777\n",
      "epoch119 loss: 5.960341695754323e-07 test acc: 0.776\n",
      "epoch120 loss: 3.1354231850855285e-06 test acc: 0.775\n",
      "epoch121 loss: 6.394500360329403e-07 test acc: 0.778\n",
      "epoch122 loss: 2.895080797316041e-08 test acc: 0.777\n",
      "epoch123 loss: 6.848138582427055e-06 test acc: 0.781\n",
      "epoch124 loss: 1.4049594199150306e-07 test acc: 0.775\n",
      "epoch125 loss: 6.079440026951488e-07 test acc: 0.778\n",
      "epoch126 loss: 7.143865445868869e-07 test acc: 0.778\n",
      "epoch127 loss: 9.110954835023222e-08 test acc: 0.778\n",
      "epoch128 loss: 5.092916762805544e-05 test acc: 0.779\n",
      "epoch129 loss: 6.556498988175008e-08 test acc: 0.779\n",
      "epoch130 loss: 4.870501015830087e-07 test acc: 0.779\n",
      "epoch131 loss: 6.400623533409089e-06 test acc: 0.782\n",
      "epoch132 loss: 1.3794178244097566e-07 test acc: 0.781\n",
      "epoch133 loss: 4.325520421843976e-07 test acc: 0.779\n",
      "epoch134 loss: 1.2431799234491336e-07 test acc: 0.78\n",
      "epoch135 loss: 6.386206052866328e-08 test acc: 0.782\n",
      "epoch136 loss: 1.660231760070019e-06 test acc: 0.774\n",
      "epoch137 loss: 4.5043213958706474e-07 test acc: 0.779\n",
      "epoch138 loss: 8.174338006483595e-08 test acc: 0.771\n",
      "epoch139 loss: 5.3644079400783085e-08 test acc: 0.78\n",
      "epoch140 loss: 4.691693504810246e-07 test acc: 0.775\n",
      "epoch141 loss: 3.746571763940665e-08 test acc: 0.782\n",
      "epoch142 loss: 1.711500772216823e-07 test acc: 0.778\n",
      "epoch143 loss: 1.1520164662215393e-06 test acc: 0.784\n",
      "epoch144 loss: 2.1627704427373828e-07 test acc: 0.778\n",
      "epoch145 loss: 9.374494425173907e-07 test acc: 0.782\n",
      "epoch146 loss: 6.999012498454249e-07 test acc: 0.781\n",
      "epoch147 loss: 4.938664233122836e-08 test acc: 0.782\n",
      "epoch148 loss: 7.97854081611149e-05 test acc: 0.778\n",
      "epoch149 loss: 1.4134757009287569e-07 test acc: 0.783\n",
      "epoch150 loss: 8.514946081561447e-09 test acc: 0.783\n",
      "epoch151 loss: 4.603436991601484e-06 test acc: 0.782\n",
      "epoch152 loss: 1.2091186363250017e-07 test acc: 0.784\n",
      "epoch153 loss: 4.512918394539156e-08 test acc: 0.785\n",
      "epoch154 loss: 7.06739768929765e-08 test acc: 0.783\n",
      "epoch155 loss: 1.5326907742974072e-08 test acc: 0.783\n",
      "epoch156 loss: 1.5241705852986343e-07 test acc: 0.781\n",
      "epoch157 loss: 1.1910049579455517e-05 test acc: 0.781\n",
      "epoch158 loss: 1.6774363587046537e-07 test acc: 0.78\n",
      "epoch159 loss: 2.2138845423569364e-08 test acc: 0.785\n",
      "epoch160 loss: 7.152526393383596e-08 test acc: 0.782\n",
      "epoch161 loss: 3.576277052275145e-08 test acc: 0.787\n",
      "epoch162 loss: 1.9924867444842675e-07 test acc: 0.787\n",
      "epoch163 loss: 8.224998282457818e-07 test acc: 0.783\n",
      "epoch164 loss: 4.768358152773544e-08 test acc: 0.788\n",
      "epoch165 loss: 5.108866503178433e-07 test acc: 0.784\n",
      "epoch166 loss: 1.6834892448969185e-05 test acc: 0.786\n",
      "epoch167 loss: 3.0035658710403368e-05 test acc: 0.788\n",
      "epoch168 loss: 2.0605919814897788e-07 test acc: 0.782\n",
      "epoch169 loss: 1.319812525935049e-07 test acc: 0.788\n",
      "epoch170 loss: 0.00019758201960939914 test acc: 0.786\n",
      "epoch171 loss: 4.2148349166382104e-07 test acc: 0.789\n",
      "epoch172 loss: 3.840917543129763e-06 test acc: 0.788\n",
      "epoch173 loss: 1.27724204546098e-08 test acc: 0.786\n",
      "epoch174 loss: 3.746572119212033e-08 test acc: 0.783\n",
      "epoch175 loss: 1.4475410203829142e-08 test acc: 0.785\n",
      "epoch176 loss: 1.3350212384466431e-06 test acc: 0.786\n",
      "epoch177 loss: 1.6433708083241072e-07 test acc: 0.782\n",
      "epoch178 loss: 2.0161058273515664e-05 test acc: 0.781\n",
      "epoch179 loss: 5.68777693388256e-07 test acc: 0.783\n",
      "epoch180 loss: 5.1089621422306664e-08 test acc: 0.786\n",
      "epoch181 loss: 2.8099316651264417e-08 test acc: 0.782\n",
      "epoch182 loss: 2.3415762484546576e-07 test acc: 0.782\n",
      "epoch183 loss: 2.629150458233198e-06 test acc: 0.787\n",
      "epoch184 loss: 9.366414843725579e-08 test acc: 0.789\n",
      "epoch185 loss: 1.1495159668584165e-07 test acc: 0.787\n",
      "epoch186 loss: 2.4097090545183164e-07 test acc: 0.786\n",
      "epoch187 loss: 2.0520909060905979e-07 test acc: 0.783\n",
      "epoch188 loss: 3.959360981298232e-07 test acc: 0.784\n",
      "epoch189 loss: 1.5412017262406152e-07 test acc: 0.79\n",
      "epoch190 loss: 7.333115354413167e-05 test acc: 0.791\n",
      "epoch191 loss: 1.3639813687404967e-06 test acc: 0.791\n",
      "epoch192 loss: 6.897099069647084e-08 test acc: 0.785\n",
      "epoch193 loss: 2.7247818223941067e-08 test acc: 0.791\n",
      "epoch194 loss: 1.6178357498120022e-07 test acc: 0.789\n",
      "epoch195 loss: 2.7247820000297907e-08 test acc: 0.784\n",
      "epoch196 loss: 6.215905301587554e-08 test acc: 0.788\n",
      "epoch197 loss: 6.215900327788404e-08 test acc: 0.782\n",
      "epoch198 loss: 4.912976123705448e-07 test acc: 0.786\n",
      "epoch199 loss: 5.875302022673168e-08 test acc: 0.786\n",
      "epoch200 loss: 7.067396268212178e-08 test acc: 0.787\n"
     ]
    }
   ],
   "source": [
    "train_losses=[]\n",
    "test_accs = []\n",
    "for epoch in range(1, 201):\n",
    "    loss, acc = train(epoch)\n",
    "    train_acc, val_acc, test_acc = test()\n",
    "    train_losses.append(loss)\n",
    "    test_accs.append(test_acc)\n",
    "    print(f'epoch{epoch} loss: {loss} test acc: {test_acc}')"
   ]
  },
  {
   "attachments": {},
   "cell_type": "markdown",
   "metadata": {},
   "source": [
    "**In the following two cells, visualize the training loss and accuracy on the test set as a function to the epochs**"
   ]
  },
  {
   "cell_type": "code",
   "execution_count": 7,
   "metadata": {},
   "outputs": [
    {
     "data": {
      "image/png": "[encoded data removed]",
      "text/plain": [
       "<Figure size 640x480 with 1 Axes>"
      ]
     },
     "metadata": {},
     "output_type": "display_data"
    }
   ],
   "source": [
    "#################################################################\n",
    "# add your code here to plot the training loss to epochs\n",
    "\n",
    "# Set the font size for the plot labels and title\n",
    "plt.rcParams.update({'font.size': 12})\n",
    "\n",
    "# Create a figure and axis object\n",
    "fig, ax = plt.subplots()\n",
    "\n",
    "# Plot the training loss as a blue line\n",
    "ax.plot(train_losses, 'b-', label='Traning Loss')\n",
    "\n",
    "# Add a legend to the plot\n",
    "ax.legend(loc='upper right')\n",
    "\n",
    "# Set the plot labels and title\n",
    "ax.set_xlabel('Epoch')\n",
    "ax.set_ylabel('train loss')\n",
    "ax.set_title('Training loss during training')\n",
    "\n",
    "# Add grid lines to the plot\n",
    "ax.grid(True, which='both')\n",
    "\n",
    "# Display the plot\n",
    "plt.show()\n",
    "#################################################################"
   ]
  },
  {
   "cell_type": "code",
   "execution_count": 7,
   "metadata": {},
   "outputs": [
    {
     "data": {
      "image/png": "[encoded data removed]",
      "text/plain": [
       "<Figure size 640x480 with 1 Axes>"
      ]
     },
     "metadata": {},
     "output_type": "display_data"
    }
   ],
   "source": [
    "######################################################################### \n",
    "# visualize the accuracy on the test set as a function to the epochs\n",
    "\n",
    "# Set the font size for the plot labels and title\n",
    "plt.rcParams.update({'font.size': 12})\n",
    "\n",
    "# Create a figure and axis object\n",
    "fig, ax = plt.subplots()\n",
    "\n",
    "# Plot the training loss as a blue line\n",
    "ax.plot(test_accs, 'b-', label='Test Accuracy')\n",
    "\n",
    "# Add a legend to the plot\n",
    "ax.legend(loc='lower right')\n",
    "\n",
    "# Set the plot labels and title\n",
    "ax.set_xlabel('Epoch')\n",
    "ax.set_ylabel('Test Accuracy')\n",
    "ax.set_title('Test Accuracy during training')\n",
    "\n",
    "# Add grid lines to the plot\n",
    "ax.grid(True, which='both')\n",
    "\n",
    "# Display the plot\n",
    "plt.show()\n",
    "######################################################################### "
   ]
  },
  {
   "attachments": {},
   "cell_type": "markdown",
   "metadata": {},
   "source": [
    "___"
   ]
  },
  {
   "attachments": {},
   "cell_type": "markdown",
   "metadata": {},
   "source": [
    "### 🕵 <font color='289C4E'>Coding Question<font><a class='anchor' id='top'></a>"
   ]
  },
  {
   "attachments": {},
   "cell_type": "markdown",
   "metadata": {},
   "source": [
    " **(b.1) Define and instantiate a ClusterGCN model with the following parameters:**\n",
    "  - convolution layer: SAGEConv\n",
    "  - num_layers: 2\n",
    "  - in_channels: the dimensions of the feature matrix in Cora\n",
    "  - hidden_channels: 128\n",
    "  - out_channels: number of classes in Cora\n",
    "  - learning rate: 0.01\n",
    "  - train loader batch size: 20\n",
    "  - test loader batch size: 1024\n",
    "  - drop out: 0.5\n",
    "  - num parts: 400\n",
    "  \n",
    "  **train it for 20 epochs and record the training loss and accuracy**\n",
    "  \n",
    "  **plot the training loss and accuracy on the test set as a function to the epochs**"
   ]
  },
  {
   "attachments": {},
   "cell_type": "markdown",
   "metadata": {},
   "source": [
    "For clusterGCN, we call the ClusterData from torch_geometric.loader to break the original graphs into communities. Use the number of communities defined above as num_parts. Use the ClusterLoader to build data loader using the communities, specify the batch size as given above."
   ]
  },
  {
   "cell_type": "code",
   "execution_count": 1,
   "metadata": {},
   "outputs": [
    {
     "ename": "",
     "evalue": "",
     "output_type": "error",
     "traceback": [
      "\u001b[1;31mCanceled future for execute_request message before replies were done"
     ]
    },
    {
     "ename": "",
     "evalue": "",
     "output_type": "error",
     "traceback": [
      "\u001b[1;31mThe Kernel crashed while executing code in the the current cell or a previous cell. Please review the code in the cell(s) to identify a possible cause of the failure. Click <a href='https://aka.ms/vscodeJupyterKernelCrash'>here</a> for more info. View Jupyter <a href='command:jupyter.viewOutput'>log</a> for further details."
     ]
    }
   ],
   "source": [
    "from torch_geometric.loader import ClusterData, ClusterLoader, NeighborSampler, NeighborLoader\n",
    "from torch_geometric.datasets import Planetoid\n",
    "\n",
    "cora_dataset = Planetoid(root=\"\", name=\"Cora\", split=\"public\")\n",
    "data = cora_dataset[0]\n",
    "\n",
    "num_parts = 400\n",
    "cluster_data = ClusterData(data, num_parts=num_parts, recursive=False,\n",
    "                           save_dir=cora_dataset.processed_dir)\n",
    "\n",
    "train_loader = ClusterLoader(cluster_data, batch_size=20, shuffle=True,\n",
    "                             num_workers=12)\n",
    "\n",
    "subgraph_loader = NeighborSampler(data.edge_index, sizes=[-1], batch_size=1024,\n",
    "                                  shuffle=False, num_workers=12)"
   ]
  },
  {
   "cell_type": "code",
   "execution_count": null,
   "metadata": {},
   "outputs": [],
   "source": []
  },
  {
   "attachments": {},
   "cell_type": "markdown",
   "metadata": {},
   "source": [
    "### 🕵 <font color='289C4E'>Coding Question<font><a class='anchor' id='top'></a>"
   ]
  },
  {
   "attachments": {},
   "cell_type": "markdown",
   "metadata": {},
   "source": [
    "Define and instantiate the ClusterGCN using the SAGEConv layer from torch_geometric package in the following cell"
   ]
  },
  {
   "cell_type": "code",
   "execution_count": null,
   "metadata": {},
   "outputs": [],
   "source": [
    "#################################################################\n",
    "# add your code here to define and instantiate the ClusterGCN\n",
    "class ClusterGCN(torch.nn.Module):\n",
    "    def __init__(self, in_channels, hidden_channels, out_channels):\n",
    "        super().__init__()\n",
    "        # define the layers here\n",
    "        \n",
    "    # define a forward function for the ClusterGCN\n",
    "    # we should also use batches befined in the loader\n",
    "    def forward(self, x, edge_index):\n",
    "        \n",
    "        return \n",
    "\n",
    "    def inference(self, x_all):\n",
    "       \n",
    "        return\n",
    "    \n",
    "\n",
    "model = ClusterGCN(...)\n",
    "optimizer = \n",
    "#################################################################"
   ]
  },
  {
   "cell_type": "code",
   "execution_count": null,
   "metadata": {
    "tags": []
   },
   "outputs": [],
   "source": [
    "#################################################################\n",
    "# add your code here to train the ClusterGCN for 200 epochs\n",
    "# and record the training loss and accuracy on test set\n",
    "\n",
    "# define training function here\n",
    "def train():\n",
    "   \n",
    "\n",
    "    return\n",
    "\n",
    "# Inference should be performed on the full graph.\n",
    "@torch.no_grad()\n",
    "def test():  \n",
    "    \n",
    "    return\n",
    "\n",
    "# train the model here for 200 epochs\n",
    "# record the loss and test accuracy during training\n"
   ]
  },
  {
   "cell_type": "code",
   "execution_count": null,
   "metadata": {},
   "outputs": [],
   "source": [
    "#################################################################\n",
    "# add your code here to plot the training loss to epochs\n",
    "\n",
    "# Set the font size for the plot labels and title\n",
    "plt.rcParams.update({'font.size': 12})\n",
    "\n",
    "# Create a figure and axis object\n",
    "fig, ax = plt.subplots()\n",
    "\n",
    "# Plot the training loss as a blue line\n",
    "ax.plot(train_losses, 'b-', label='Traning Loss')\n",
    "\n",
    "# Add a legend to the plot\n",
    "ax.legend(loc='upper right')\n",
    "\n",
    "# Set the plot labels and title\n",
    "ax.set_xlabel('Epoch')\n",
    "ax.set_ylabel('train loss')\n",
    "ax.set_title('Training loss during training')\n",
    "\n",
    "# Add grid lines to the plot\n",
    "ax.grid(True, which='both')\n",
    "\n",
    "# Display the plot\n",
    "plt.show()\n",
    "#################################################################"
   ]
  },
  {
   "cell_type": "code",
   "execution_count": null,
   "metadata": {},
   "outputs": [],
   "source": [
    "######################################################################### \n",
    "# visualize the accuracy on the test set as a function to the epochs\n",
    "\n",
    "# Set the font size for the plot labels and title\n",
    "plt.rcParams.update({'font.size': 12})\n",
    "\n",
    "# Create a figure and axis object\n",
    "fig, ax = plt.subplots()\n",
    "\n",
    "# Plot the training loss as a blue line\n",
    "ax.plot(test_accs, 'b-', label='Test Accuracy')\n",
    "\n",
    "# Add a legend to the plot\n",
    "ax.legend(loc='lower right')\n",
    "\n",
    "# Set the plot labels and title\n",
    "ax.set_xlabel('Epoch')\n",
    "ax.set_ylabel('Test Accuracy')\n",
    "ax.set_title('Test Accuracy during training')\n",
    "\n",
    "# Add grid lines to the plot\n",
    "ax.grid(True, which='both')\n",
    "\n",
    "# Display the plot\n",
    "plt.show()\n",
    "######################################################################### "
   ]
  },
  {
   "attachments": {},
   "cell_type": "markdown",
   "metadata": {},
   "source": [
    "**(b.1)What would happen in the training if we specify a very high number of communities, for example 1500 in the ClusterData object? Implement the ClusterGCN with 1500 communities in the following cell and observe the training loss and test accurracy to draw your conclusion.**"
   ]
  },
  {
   "cell_type": "code",
   "execution_count": null,
   "metadata": {},
   "outputs": [],
   "source": [
    "cluster_data = ClusterData(...)\n",
    "train_loader = ClusterLoader(...)\n",
    "\n",
    "subgraph_loader = NeighborSampler(...)\n",
    "\n",
    "model = ClusterGCN(...)\n",
    "optimizer=\n",
    "\n",
    "#train the model for 200 epochs here\n",
    "\n"
   ]
  },
  {
   "attachments": {},
   "cell_type": "markdown",
   "metadata": {},
   "source": [
    "**Answer Here:**"
   ]
  },
  {
   "attachments": {},
   "cell_type": "markdown",
   "metadata": {},
   "source": [
    "### 🕵 <font color='289C4E'>Question<font><a class='anchor' id='top'></a>"
   ]
  },
  {
   "attachments": {},
   "cell_type": "markdown",
   "metadata": {},
   "source": [
    "**(c.1)Which method did you expect to converge faster. Explain why in the following cell**"
   ]
  },
  {
   "attachments": {},
   "cell_type": "markdown",
   "metadata": {},
   "source": [
    "**Answer here:** "
   ]
  },
  {
   "attachments": {},
   "cell_type": "markdown",
   "metadata": {},
   "source": [
    "**(c.2)Which method converges faster in your experiments**"
   ]
  },
  {
   "attachments": {},
   "cell_type": "markdown",
   "metadata": {},
   "source": [
    "**Answer here:** "
   ]
  },
  {
   "attachments": {},
   "cell_type": "markdown",
   "metadata": {},
   "source": [
    "**(c.3)In case your observations about convergence of the compared method differ from your expectations, what could have contributed to this difference?**"
   ]
  },
  {
   "attachments": {},
   "cell_type": "markdown",
   "metadata": {},
   "source": [
    "**Answer here:** "
   ]
  },
  {
   "attachments": {},
   "cell_type": "markdown",
   "metadata": {},
   "source": [
    "### 🕵 <font color='289C4E'>Coding Question<font><a class='anchor' id='top'></a>"
   ]
  },
  {
   "attachments": {},
   "cell_type": "markdown",
   "metadata": {},
   "source": [
    "**(e)Try here 10 and 20 layers of GraphSAGE and ClusterGCN with the same parameters as defined in two layers GraphSAGE and ClusterGCN. From your observations which method would you prefer when increasing the layers and give your reasons in the following cell.**"
   ]
  },
  {
   "cell_type": "code",
   "execution_count": null,
   "metadata": {
    "tags": []
   },
   "outputs": [],
   "source": [
    "######################################################################### \n",
    "#Run 10 layer Graphsage here\n",
    "\n",
    "######################################################################### "
   ]
  },
  {
   "cell_type": "code",
   "execution_count": null,
   "metadata": {
    "tags": []
   },
   "outputs": [],
   "source": [
    "######################################################################### \n",
    "#Run 20 layer Graphsage here\n",
    "\n",
    "######################################################################### "
   ]
  },
  {
   "cell_type": "code",
   "execution_count": null,
   "metadata": {
    "tags": []
   },
   "outputs": [],
   "source": [
    "######################################################################### \n",
    "#Run 10 layer ClusterGCN here\n",
    "\n",
    "######################################################################### "
   ]
  },
  {
   "cell_type": "code",
   "execution_count": null,
   "metadata": {
    "tags": []
   },
   "outputs": [],
   "source": [
    "######################################################################### \n",
    "#Run 20 layer ClusterGCN here\n",
    "\n",
    "######################################################################### "
   ]
  },
  {
   "attachments": {},
   "cell_type": "markdown",
   "metadata": {},
   "source": [
    "**Answer here:** "
   ]
  },
  {
   "attachments": {},
   "cell_type": "markdown",
   "metadata": {},
   "source": [
    "---"
   ]
  },
  {
   "attachments": {},
   "cell_type": "markdown",
   "metadata": {},
   "source": [
    "## Lab 3.2: Explanability of GNNs"
   ]
  },
  {
   "attachments": {},
   "cell_type": "markdown",
   "metadata": {},
   "source": [
    "**Description:**\n",
    "\n",
    "In this section, you will extract and analyse the explainations from GNNExplainer and Zorro on Cora. \n",
    "\n",
    "To do this, we firstly train a basic GCN with default parameters to perform the node classification task. This trained GCN will then be used as the target model to explain by the GNNExplainer and Zorro. We randomly choose ten nodes from Cora to produce explanations. The explainations indicate which features and neighboring nodes/edges are crucial for the ego nodes in the node classification task. Finally, we compare and analyse the explanations extracted by GNNExplainera and Zorro using RDT-fidelity and sparsity.\n",
    "\n"
   ]
  },
  {
   "attachments": {},
   "cell_type": "markdown",
   "metadata": {},
   "source": [
    "Note the explainers may produce different explanations for different nodes. In order to make the anwser correctable, we randomly choose 10 nodes with indices [116, 198, 224, 650, 808, 1017, 1706, 1733, 2172, 2433] for this question. Run the following code to extract their features from the feature matrix of Cora."
   ]
  },
  {
   "cell_type": "code",
   "execution_count": null,
   "metadata": {},
   "outputs": [],
   "source": [
    "ind = [116, 198, 224, 650, 808, 1017, 1706, 1733, 2172, 2433]\n",
    "feat = data.x[ind]"
   ]
  },
  {
   "attachments": {},
   "cell_type": "markdown",
   "metadata": {},
   "source": [
    "Now we train a GCN model with the following parameters for 100 epochs:\n",
    "\n",
    "  - in_channels: the dimensions of the feature matrix in Cora\n",
    "  - hidden_channels: 16\n",
    "  - num_layers: 2\n",
    "  - out_channels: number of classes in Cora\n",
    "  - learning rate: 0.01\n",
    "  - drop out: 0.5\n",
    "  - weight_decay: 5e-4"
   ]
  },
  {
   "attachments": {},
   "cell_type": "markdown",
   "metadata": {},
   "source": [
    "In the following cell, we provide the code to define and instanstiate a GCN model using the previouly given parameters:"
   ]
  },
  {
   "cell_type": "code",
   "execution_count": null,
   "metadata": {},
   "outputs": [],
   "source": [
    "class GCN(torch.nn.Module):\n",
    "    def __init__(self, in_channels, hidden_channels, out_channels):\n",
    "        super().__init__()\n",
    "        self.conv1 = GCNConv(in_channels, hidden_channels)\n",
    "        self.conv2 = GCNConv(hidden_channels, out_channels)\n",
    "\n",
    "    def forward(self, x, edge_index, edge_weight=None):\n",
    "        x = F.dropout(x, p=0.5, training=self.training)\n",
    "        x = self.conv1(x, edge_index, edge_weight).relu()\n",
    "        x = F.dropout(x, p=0.5, training=self.training)\n",
    "        x = self.conv2(x, edge_index, edge_weight)\n",
    "        return x\n",
    "    \n",
    "model = GCN(cora_dataset.num_features, 16, cora_dataset.num_classes)"
   ]
  },
  {
   "attachments": {},
   "cell_type": "markdown",
   "metadata": {},
   "source": [
    "Now we train the GCN model instantiated in the previous cell for 100 epochs using the built in train, validation, and test split in Cora"
   ]
  },
  {
   "cell_type": "code",
   "execution_count": null,
   "metadata": {
    "tags": []
   },
   "outputs": [],
   "source": [
    "optimizer = torch.optim.Adam(model.parameters(), lr=0.01, weight_decay=5e-4)\n",
    "\n",
    "def train():\n",
    "    model.train()\n",
    "    optimizer.zero_grad()\n",
    "    out = model(data.x, data.edge_index, data.edge_attr)\n",
    "    loss = F.cross_entropy(out[data.train_mask], data.y[data.train_mask])\n",
    "    loss.backward()\n",
    "    optimizer.step()\n",
    "    return float(loss)\n",
    "\n",
    "\n",
    "@torch.no_grad()\n",
    "def test():\n",
    "    model.eval()\n",
    "    pred = model(data.x, data.edge_index, data.edge_attr).argmax(dim=-1)\n",
    "\n",
    "    accs = []\n",
    "    for mask in [data.train_mask, data.val_mask, data.test_mask]:\n",
    "        accs.append(int((pred[mask] == data.y[mask]).sum()) / int(mask.sum()))\n",
    "    return accs\n",
    "\n",
    "\n",
    "for epoch in range(1, 101):\n",
    "    loss = train()\n",
    "    train_acc, val_acc, test_acc = test()\n",
    "    print(f'Epoch: {epoch:02d}, Loss: {loss:.4f}, Train: {train_acc:.4f}, '\n",
    "          f'Val: {val_acc:.4f}, test: {test_acc:.4f}')"
   ]
  },
  {
   "attachments": {},
   "cell_type": "markdown",
   "metadata": {},
   "source": [
    "### 🕵 <font color='289C4E'>Question<font><a class='anchor' id='top'></a>"
   ]
  },
  {
   "attachments": {},
   "cell_type": "markdown",
   "metadata": {},
   "source": [
    "**(a)Extract explanation for the above mentioned 10 nodes using GNNExplainer using the following paramters:**\n",
    "\n",
    "    - epochs: 100\n",
    "    - model: the previously trained GCN\n",
    "    - top_k: extract importance of top 50 features\n",
    "    \n",
    "**GNNExplainer is implemented in torch_geometric. Instantiate GNNExplainer by filling the blanks in the follwing cell.**\n",
    "    \n",
    "**Visualize the importances assigned to each feature by GNNExplainer**"
   ]
  },
  {
   "cell_type": "code",
   "execution_count": null,
   "metadata": {
    "tags": []
   },
   "outputs": [],
   "source": [
    "##################################################################################\n",
    "#add your code here to generate explanations using GNNExplainer\n",
    "explainer = \n",
    "\n",
    "# explanations for each node\n",
    "\n",
    "##################################################################################"
   ]
  },
  {
   "cell_type": "code",
   "execution_count": null,
   "metadata": {},
   "outputs": [],
   "source": [
    "##################################################################################\n",
    "#add your code here to visualize the feature importance\n",
    "\n",
    "##################################################################################"
   ]
  },
  {
   "attachments": {},
   "cell_type": "markdown",
   "metadata": {},
   "source": [
    "### 🕵 <font color='289C4E'>Question<font><a class='anchor' id='top'></a>"
   ]
  },
  {
   "attachments": {},
   "cell_type": "markdown",
   "metadata": {},
   "source": [
    "**(b)Calculate the RDT fidelity of the explanations extracted from GNNExplainer**"
   ]
  },
  {
   "attachments": {},
   "cell_type": "markdown",
   "metadata": {},
   "source": [
    "The following function calculate the k-hop subgraph of the given target nodes. This function will be called in the calculation of the RDT-Fidelity."
   ]
  },
  {
   "cell_type": "code",
   "execution_count": null,
   "metadata": {},
   "outputs": [],
   "source": [
    "def subgraph(model, node_idx, x, edge_index, **kwargs):\n",
    "    num_nodes, num_edges = x.size(0), edge_index.size(1)\n",
    "\n",
    "    flow = 'source_to_target'\n",
    "    for module in model.modules():\n",
    "        if isinstance(module, MessagePassing):\n",
    "            flow = module.flow\n",
    "            break\n",
    "\n",
    "    num_hops = 0\n",
    "    for module in model.modules():\n",
    "        if isinstance(module, MessagePassing):\n",
    "            if isinstance(module, APPNP):\n",
    "                num_hops += module.K\n",
    "            else:\n",
    "                num_hops += 1\n",
    "\n",
    "    subset, edge_index, mapping, edge_mask = k_hop_subgraph(\n",
    "        node_idx, num_hops, edge_index, relabel_nodes=True,\n",
    "        num_nodes=num_nodes, flow=flow)\n",
    "\n",
    "    x = x[subset]\n",
    "    for key, item in kwargs:\n",
    "        if torch.is_tensor(item) and item.size(0) == num_nodes:\n",
    "            item = item[subset]\n",
    "        elif torch.is_tensor(item) and item.size(0) == num_edges:\n",
    "            item = item[edge_mask]\n",
    "        kwargs[key] = item\n",
    "\n",
    "    return x, edge_index, mapping, edge_mask, kwargs"
   ]
  },
  {
   "attachments": {},
   "cell_type": "markdown",
   "metadata": {},
   "source": [
    "Zorro outputs feature_mask and node_mask. In order to make the comparision later between the explainers, use the following code snippet to convert the edge_mask produced by GNNExplainer to node_mask:"
   ]
  },
  {
   "cell_type": "code",
   "execution_count": null,
   "metadata": {},
   "outputs": [],
   "source": [
    "def edge_mask_to_node_mask(data, edge_mask, aggregation=\"mean\"):\n",
    "\n",
    "    node_weights = torch.zeros(data.x.shape[0])\n",
    "\n",
    "    if aggregation == \"sum\":\n",
    "\n",
    "        for weight, nodes in zip(edge_mask, data.edge_index.T):\n",
    "            node_weights[nodes[0].item()] += weight.item() / 2\n",
    "            node_weights[nodes[1].item()] += weight.item() / 2\n",
    "\n",
    "    elif aggregation == \"mean\":\n",
    "\n",
    "        node_degrees = torch.zeros(data.x.shape[0])\n",
    "\n",
    "        for weight, nodes in zip(edge_mask, data.edge_index.T):\n",
    "\n",
    "            node_weights[nodes[0].item()] += weight.item()\n",
    "\n",
    "            node_weights[nodes[1].item()] += weight.item()\n",
    "\n",
    "            node_degrees[nodes[0].item()] += 1\n",
    "\n",
    "            node_degrees[nodes[1].item()] += 1\n",
    "\n",
    "        node_weights = node_weights / node_degrees.clamp(min=1.)\n",
    "\n",
    "    elif aggregation == \"max\":\n",
    "\n",
    "        for weight, nodes in zip(edge_mask, data.edge_index.T):\n",
    "\n",
    "            node_weights[nodes[0].item()] = max(weight.item(), node_weights[nodes[0].item()])\n",
    "\n",
    "            node_weights[nodes[1].item()] = max(weight.item(), node_weights[nodes[1].item()])\n",
    "\n",
    "    else:\n",
    "\n",
    "        raise NotImplementedError(f\"No such aggregation method: {aggregation}\")\n",
    "\n",
    "    return node_weights"
   ]
  },
  {
   "cell_type": "code",
   "execution_count": null,
   "metadata": {},
   "outputs": [],
   "source": [
    "# convert the edge mask to node mask here\n",
    "\n"
   ]
  },
  {
   "attachments": {},
   "cell_type": "markdown",
   "metadata": {},
   "source": [
    "In the following cell is the incomplete function to calculate the RDT-Fidelity. Read the code and fill the blank in the follwing cell to complete the function of calculating RDT-Fidelity:"
   ]
  },
  {
   "cell_type": "code",
   "execution_count": null,
   "metadata": {},
   "outputs": [],
   "source": [
    "# The function to return the k-hop subgraph of the selected nodes\n",
    "def fidelity(model,  # is a must\n",
    "             node_idx,  # is a must\n",
    "             full_feature_matrix,  # must\n",
    "             edge_index=None,  # the whole, so data.edge_index\n",
    "             node_mask=None,  # at least one of these three node, feature, edge\n",
    "             feature_mask=None,\n",
    "             edge_mask=None,\n",
    "             samples=100,\n",
    "             random_seed=12345,\n",
    "             device=\"cpu\"\n",
    "             ):\n",
    "    \"\"\"\n",
    "    Distortion/Fidelity (for Node Classification)\n",
    "    :param model: GNN model which is explained\n",
    "    :param node_idx: The node which is explained\n",
    "    :param full_feature_matrix: The feature matrix from the Graph (X)\n",
    "    :param edge_index: All edges\n",
    "    :param node_mask: Is a (binary) tensor with 1/0 for each node in the computational graph\n",
    "    => 1 means the features of this node will be fixed\n",
    "    => 0 means the features of this node will be pertubed/randomized\n",
    "    if not available torch.ones((1, num_computation_graph_nodes))\n",
    "    :param feature_mask: Is a (binary) tensor with 1/0 for each feature\n",
    "    => 1 means this features is fixed for all nodes with 1\n",
    "    => 0 means this feature is randomized for all nodes\n",
    "    if not available torch.ones((1, number_of_features))\n",
    "    :param edge_mask:\n",
    "    :param samples:\n",
    "    :param random_seed:\n",
    "    :param device:\n",
    "    :param validity:\n",
    "    :return:\n",
    "    \"\"\"\n",
    "    if edge_mask is None and feature_mask is None and node_mask is None:\n",
    "        raise ValueError(\"At least supply one mask\")\n",
    "\n",
    "    computation_graph_feature_matrix, computation_graph_edge_index, mapping, hard_edge_mask, kwargs = subgraph(model, node_idx, \n",
    "                                                                                                               full_feature_matrix, \n",
    "                                                                                                               edge_index)\n",
    "\n",
    "    # get predicted label\n",
    "    log_logits = model.forward(x=computation_graph_feature_matrix,\n",
    "                               edge_index=computation_graph_edge_index)\n",
    "    predicted_labels = log_logits.argmax(dim=-1)\n",
    "\n",
    "    predicted_label = predicted_labels[mapping]\n",
    "\n",
    "    # fill missing masks\n",
    "    if feature_mask is None:\n",
    "        (num_nodes, num_features) = full_feature_matrix.size()\n",
    "        feature_mask= torch.ones((1, num_features), device=device)\n",
    "\n",
    "    num_computation_graph_nodes = computation_graph_feature_matrix.size(0)\n",
    "    if node_mask is None:\n",
    "        # all nodes selected\n",
    "        node_mask = torch.ones((1, num_computation_graph_nodes), device=device)\n",
    "\n",
    "\n",
    "    # set edge mask\n",
    "    if edge_mask is not None:\n",
    "        for module in model.modules():\n",
    "            if isinstance(module, MessagePassing):\n",
    "                module.__explain__ = False\n",
    "                module.__edge_mask__ = edge_mask\n",
    "    (num_nodes, num_features) = full_feature_matrix.size()\n",
    "\n",
    "    num_nodes_computation_graph = computation_graph_feature_matrix.size(0)\n",
    "\n",
    "    # retrieve complete mask as matrix\n",
    "    mask = node_mask.T.matmul(feature_mask)\n",
    "\n",
    "    correct = 0.0\n",
    "\n",
    "    rng = torch.Generator(device=device)\n",
    "    rng.manual_seed(random_seed)\n",
    "    random_indices = torch.randint(num_nodes, (samples, num_nodes_computation_graph, num_features),\n",
    "                                   generator=rng,\n",
    "                                   device=device,\n",
    "                                   )\n",
    "    random_indices = random_indices.type(torch.int64)\n",
    "    \n",
    "    \n",
    "    ###################################################################################################\n",
    "    # for each samples, add your code here to:\n",
    "    for i in range(samples):\n",
    "        \n",
    "        #1. generate the perturbed input\n",
    "        \n",
    "        \n",
    "        #2. get the prediction from the trained model using the perturbed features as input\n",
    "        \n",
    "       \n",
    "        \n",
    "        #3. calculate the number of corrected predicted labels:\n",
    "       \n",
    "    ###################################################################################################\n",
    "    \n",
    "    # reset mask\n",
    "    if edge_mask is not None:\n",
    "        for module in model.modules():\n",
    "            if isinstance(module, MessagePassing):\n",
    "                module.__explain__ = False\n",
    "                module.__edge_mask__ = None\n",
    "\n",
    "    return correct / samples"
   ]
  },
  {
   "attachments": {},
   "cell_type": "markdown",
   "metadata": {},
   "source": [
    "calculate the RDT-Fidelity of the extracted feature and node explanations:"
   ]
  },
  {
   "cell_type": "code",
   "execution_count": null,
   "metadata": {},
   "outputs": [],
   "source": [
    "# for each node calculate the rdt fidelity for the feature and node mask\n"
   ]
  },
  {
   "attachments": {},
   "cell_type": "markdown",
   "metadata": {},
   "source": [
    "**Answer here Fidelity for GNNExplainer:**"
   ]
  },
  {
   "attachments": {},
   "cell_type": "markdown",
   "metadata": {},
   "source": [
    "### 🕵 <font color='289C4E'>Question<font><a class='anchor' id='top'></a>"
   ]
  },
  {
   "attachments": {},
   "cell_type": "markdown",
   "metadata": {},
   "source": [
    "**(c)Repeat (a) and (b) to extract explanation for the above mentioned 10 nodes using Zorro with the following paramters:**\n",
    "\n",
    "    - model:GCN\n",
    "    - tau: 0.03\n",
    "    - samples: 100"
   ]
  },
  {
   "attachments": {},
   "cell_type": "markdown",
   "metadata": {},
   "source": [
    "We provide the implementation of Zorro in this experiment, you can import it from explainer.py using the following code:"
   ]
  },
  {
   "cell_type": "code",
   "execution_count": null,
   "metadata": {},
   "outputs": [],
   "source": [
    "from explainer import Zorro"
   ]
  },
  {
   "attachments": {},
   "cell_type": "markdown",
   "metadata": {},
   "source": [
    "Using the following function to extract explanations for the nodes"
   ]
  },
  {
   "cell_type": "code",
   "execution_count": null,
   "metadata": {},
   "outputs": [],
   "source": [
    "def get_zorro(index):\n",
    "    # Same as the 0.98 in the paper\n",
    "    tau = .03\n",
    "    # only retrieve 1 explanation\n",
    "    recursion_depth = 1\n",
    "\n",
    "    explanation = \n",
    "\n",
    "\n",
    "    return selected_features, selected_nodes"
   ]
  },
  {
   "attachments": {},
   "cell_type": "markdown",
   "metadata": {},
   "source": [
    "extract explanations for the above mentioned 10 nodes using Zorro"
   ]
  },
  {
   "cell_type": "code",
   "execution_count": null,
   "metadata": {
    "tags": []
   },
   "outputs": [],
   "source": [
    "##################################################################################\n",
    "#add your code here to extract explanations using Zorro\n",
    "\n",
    "##################################################################################"
   ]
  },
  {
   "cell_type": "code",
   "execution_count": null,
   "metadata": {},
   "outputs": [],
   "source": [
    "##################################################################################\n",
    "#add your code here to visualize the feature importances generated by Zorro\n",
    "\n",
    "##################################################################################"
   ]
  },
  {
   "attachments": {},
   "cell_type": "markdown",
   "metadata": {},
   "source": [
    "**Calculate the fidelity for the extracted explanations**"
   ]
  },
  {
   "cell_type": "code",
   "execution_count": null,
   "metadata": {},
   "outputs": [],
   "source": [
    "##################################################################################\n",
    "# for each node calculate the rdt fidelity for the feature and node mask\n",
    "\n",
    "##################################################################################"
   ]
  },
  {
   "attachments": {},
   "cell_type": "markdown",
   "metadata": {},
   "source": [
    "### 🕵 <font color='289C4E'>Question<font><a class='anchor' id='top'></a>"
   ]
  },
  {
   "attachments": {},
   "cell_type": "markdown",
   "metadata": {},
   "source": [
    "**(d)Compare the importances asssigned to the features by GNNExplainer and Zorro, what do you observe from the distribution plots and what does this difference mean?**"
   ]
  },
  {
   "attachments": {},
   "cell_type": "markdown",
   "metadata": {},
   "source": [
    "**Answer here: **"
   ]
  },
  {
   "attachments": {},
   "cell_type": "markdown",
   "metadata": {},
   "source": [
    "### 🕵 <font color='289C4E'>Question<font><a class='anchor' id='top'></a>"
   ]
  },
  {
   "attachments": {},
   "cell_type": "markdown",
   "metadata": {},
   "source": [
    "**(e)Compare the explanations extracted by GNNExplainer and Zorro, Which explainer is more faithful to the model and explain why?**"
   ]
  },
  {
   "attachments": {},
   "cell_type": "markdown",
   "metadata": {},
   "source": [
    "**Answer:**"
   ]
  },
  {
   "attachments": {},
   "cell_type": "markdown",
   "metadata": {},
   "source": [
    "### 🕵 <font color='289C4E'>Question<font><a class='anchor' id='top'></a>"
   ]
  },
  {
   "attachments": {},
   "cell_type": "markdown",
   "metadata": {},
   "source": [
    "**(f)Use number of samples [5, 10, 20, 50] in optimizing fidelity for generating Zorro's explanations. Calculate the the RDT-Fidelity for the corresponding explanations of Zorro. What do you conclude about the performance-speed tradeoff of Zorro from the results?**"
   ]
  },
  {
   "cell_type": "code",
   "execution_count": null,
   "metadata": {
    "tags": []
   },
   "outputs": [],
   "source": [
    "############################################################\n",
    "# add your code here to calculate RDT-Fidelity using 5 samples\n",
    "# for each node calculate the rdt fidelity for the feature and node mask\n",
    "\n",
    "############################################################"
   ]
  },
  {
   "cell_type": "code",
   "execution_count": null,
   "metadata": {},
   "outputs": [],
   "source": [
    "############################################################\n",
    "# add your code here to calculate RDT-Fidelity using 10 samples\n",
    "# for each node calculate the rdt fidelity for the feature and node mask\n",
    "\n",
    "############################################################"
   ]
  },
  {
   "cell_type": "code",
   "execution_count": null,
   "metadata": {},
   "outputs": [],
   "source": [
    "############################################################\n",
    "# add your code here to calculate RDT-Fidelity using 20 samples\n",
    "# for each node calculate the rdt fidelity for the feature and node mask\n",
    "\n",
    "############################################################"
   ]
  },
  {
   "cell_type": "code",
   "execution_count": null,
   "metadata": {},
   "outputs": [],
   "source": [
    "############################################################\n",
    "# add your code here to calculate RDT-Fidelity using 50 samples\n",
    "# for each node calculate the rdt fidelity for the feature and node mask\n",
    "\n",
    "############################################################"
   ]
  },
  {
   "attachments": {},
   "cell_type": "markdown",
   "metadata": {},
   "source": [
    "### 🕵 <font color='289C4E'>Question<font><a class='anchor' id='top'></a>"
   ]
  },
  {
   "attachments": {},
   "cell_type": "markdown",
   "metadata": {},
   "source": [
    "**(g)Compare the RDT-Fidelity of the new explanations of Zorro with that of GNNExplainer. What do you conclude from the performance of explanations? **"
   ]
  },
  {
   "attachments": {},
   "cell_type": "markdown",
   "metadata": {},
   "source": [
    "**Answer**:**"
   ]
  },
  {
   "attachments": {},
   "cell_type": "markdown",
   "metadata": {},
   "source": [
    "### 🕵 <font color='289C4E'>Question<font><a class='anchor' id='top'></a>"
   ]
  },
  {
   "attachments": {},
   "cell_type": "markdown",
   "metadata": {},
   "source": [
    "**(h.1) Define the function to calculate the sparsity of the explanations by computing the entropy of the feature masks.**"
   ]
  },
  {
   "cell_type": "code",
   "execution_count": null,
   "metadata": {},
   "outputs": [],
   "source": [
    "from scipy.stats import entropy\n",
    "##################################################################################\n",
    "# add your code here to define the function of calculating the sparsity of the explanations\n",
    "def sparsity(...):\n",
    "    \n",
    "##################################################################################"
   ]
  },
  {
   "attachments": {},
   "cell_type": "markdown",
   "metadata": {},
   "source": [
    "**(h.2)Calculate the sparsity of the feature explanation extracted by GNNExplainer**"
   ]
  },
  {
   "cell_type": "code",
   "execution_count": null,
   "metadata": {},
   "outputs": [],
   "source": [
    "##################################################################################\n",
    "#add your code here \n",
    "# for each node calculate the rdt fidelity for the feature and edge mask\n",
    "\n",
    "##################################################################################"
   ]
  },
  {
   "attachments": {},
   "cell_type": "markdown",
   "metadata": {},
   "source": [
    "**(f.3)Calculate the sparsity of the feature explanation extracted by Zorro**"
   ]
  },
  {
   "cell_type": "code",
   "execution_count": null,
   "metadata": {},
   "outputs": [],
   "source": [
    "##################################################################################\n",
    "#add your code here \n",
    "\n",
    "##################################################################################"
   ]
  },
  {
   "attachments": {},
   "cell_type": "markdown",
   "metadata": {},
   "source": [
    "**(f.4)Which explanation is more useful with respect to its sparsity and why?**"
   ]
  },
  {
   "attachments": {},
   "cell_type": "markdown",
   "metadata": {},
   "source": [
    "**Answer**"
   ]
  },
  {
   "attachments": {},
   "cell_type": "markdown",
   "metadata": {},
   "source": [
    "---"
   ]
  }
 ],
 "metadata": {
  "colab": {
   "collapsed_sections": [
    "9-FO_FFTqfqj",
    "ztW-os_4TQ-2",
    "u3JjaZCDTWN8",
    "Ksa7d2pjTO86",
    "ekMofq1duzy3",
    "Gndcntqt69-N",
    "lgnlFVTZ7Bec",
    "tG4ejXt-Gi7j",
    "YHkEUJJRGnTf"
   ],
   "provenance": []
  },
  "gpuClass": "standard",
  "kernelspec": {
   "display_name": "Python 3 (ipykernel)",
   "language": "python",
   "name": "python3"
  },
  "language_info": {
   "codemirror_mode": {
    "name": "ipython",
    "version": 3
   },
   "file_extension": ".py",
   "mimetype": "text/x-python",
   "name": "python",
   "nbconvert_exporter": "python",
   "pygments_lexer": "ipython3",
   "version": "3.10.10"
  }
 },
 "nbformat": 4,
 "nbformat_minor": 4
}
